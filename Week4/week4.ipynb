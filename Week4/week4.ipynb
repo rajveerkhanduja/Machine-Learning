{
 "cells": [
  {
   "cell_type": "code",
   "execution_count": 2,
   "metadata": {},
   "outputs": [
    {
     "name": "stdout",
     "output_type": "stream",
     "text": [
      "Intercept (b0): 1.96\n",
      "Coefficient for x1 (b1): 2.60\n",
      "Regression Equation: y = 1.96 + 2.60x1\n",
      "Intercept: 1.9584569732938064\n",
      "Coefficients: [2.59643917]\n",
      "Equation: y = 1.96 + 2.60x1\n"
     ]
    }
   ],
   "source": [
    "import numpy as np\n",
    "\n",
    "def mul_regression():\n",
    "    num_variables = int(input(\"Enter the number of independent variables: \"))\n",
    "    x_values = []\n",
    "    \n",
    "    for i in range(num_variables):\n",
    "        x = input(f\"Enter x{i+1} values (comma-separated): \")\n",
    "        x_values.append([float(v) for v in x.split(',')])\n",
    "    \n",
    "    y_values = input(\"Enter y values (comma-separated): \")\n",
    "    y = np.array([float(i) for i in y_values.split(',')])\n",
    "    \n",
    "    X = np.array(x_values).T  \n",
    "    X = np.c_[np.ones(X.shape[0]), X]  \n",
    "    \n",
    "    XtX = np.dot(X.T, X)  \n",
    "    XtX_inv = np.linalg.inv(XtX)  \n",
    "    XtY = np.dot(X.T, y)  \n",
    "    beta = np.dot(XtX_inv, XtY)  \n",
    "    \n",
    "    intercept = beta[0]\n",
    "    coefficients = beta[1:]\n",
    "    \n",
    "    print(f\"Intercept (b0): {intercept:.2f}\")\n",
    "    for i, coef in enumerate(coefficients, start=1):\n",
    "        print(f\"Coefficient for x{i} (b{i}): {coef:.2f}\")\n",
    "    \n",
    "    equation = f\"y = {intercept:.2f}\"\n",
    "    for i, coef in enumerate(coefficients, start=1):\n",
    "        equation += f\" + {coef:.2f}x{i}\"\n",
    "    \n",
    "    print(f\"Regression Equation: {equation}\")\n",
    "    return {'intercept': intercept, 'coefficients': coefficients, 'equation': equation}\n",
    "\n",
    "result = mul_regression()\n",
    "print(f\"Intercept: {result['intercept']}\")\n",
    "print(f\"Coefficients: {result['coefficients']}\")\n",
    "print(f\"Equation: {result['equation']}\")"
   ]
  }
 ],
 "metadata": {
  "kernelspec": {
   "display_name": "env",
   "language": "python",
   "name": "python3"
  },
  "language_info": {
   "codemirror_mode": {
    "name": "ipython",
    "version": 3
   },
   "file_extension": ".py",
   "mimetype": "text/x-python",
   "name": "python",
   "nbconvert_exporter": "python",
   "pygments_lexer": "ipython3",
   "version": "3.12.5"
  }
 },
 "nbformat": 4,
 "nbformat_minor": 2
}
