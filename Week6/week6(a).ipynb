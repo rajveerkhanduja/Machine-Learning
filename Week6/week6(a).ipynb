{
 "cells": [
  {
   "cell_type": "code",
   "execution_count": 3,
   "metadata": {},
   "outputs": [
    {
     "name": "stdout",
     "output_type": "stream",
     "text": [
      "Euclidean Distance: 2.8284271247461903\n",
      "Manhattan Distance: 4.0\n",
      "Minkowski Distance: 2.0885475648548275\n"
     ]
    }
   ],
   "source": [
    "import numpy as np\n",
    "\n",
    "def euclidean_distance(point1, point2):\n",
    "    return np.sqrt(np.sum((np.array(point1) - np.array(point2))**2))\n",
    "\n",
    "def manhattan_distance(point1, point2):\n",
    "    return np.sum(np.abs(np.array(point1) - np.array(point2)))\n",
    "\n",
    "def minkowski_distance(point1, point2, p):\n",
    "    return np.sum(np.abs(np.array(point1) - np.array(point2))**p)**(1/p)\n",
    "\n",
    "point1 = list(map(float, input(\"Enter the coordinates of point1 (comma-separated): \").split(',')))\n",
    "point2 = list(map(float, input(\"Enter the coordinates of point2 (comma-separated): \").split(',')))\n",
    "p = float(input(\"Enter the value of p for Minkowski distance: \"))\n",
    "\n",
    "print(\"Euclidean Distance:\", euclidean_distance(point1, point2))\n",
    "print(\"Manhattan Distance:\", manhattan_distance(point1, point2))\n",
    "print(\"Minkowski Distance:\", minkowski_distance(point1, point2, p))"
   ]
  },
  {
   "cell_type": "markdown",
   "metadata": {},
   "source": [
    "- Calculated the Euclidean distance between two points.\n",
    "- Calculated the Manhattan distance between two points.\n",
    "- Calculated the Minkowski distance between two points with a customizable parameter \n",
    "- Used numpy to perform these calculations.\n",
    "- Took user input as comma-separated values for coordinates and parameter "
   ]
  }
 ],
 "metadata": {
  "kernelspec": {
   "display_name": "env",
   "language": "python",
   "name": "python3"
  },
  "language_info": {
   "codemirror_mode": {
    "name": "ipython",
    "version": 3
   },
   "file_extension": ".py",
   "mimetype": "text/x-python",
   "name": "python",
   "nbconvert_exporter": "python",
   "pygments_lexer": "ipython3",
   "version": "3.12.5"
  }
 },
 "nbformat": 4,
 "nbformat_minor": 2
}
