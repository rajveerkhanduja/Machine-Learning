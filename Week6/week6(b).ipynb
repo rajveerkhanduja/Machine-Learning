{
 "cells": [
  {
   "cell_type": "code",
   "execution_count": 10,
   "metadata": {},
   "outputs": [
    {
     "name": "stdout",
     "output_type": "stream",
     "text": [
      "\n",
      "Confusion Matrix:\n",
      "3 0\n",
      "0 6\n",
      "\n",
      "Accuracy: 1.00\n",
      "Precision:  [1., 1.]\n",
      "Recall:  [1., 1.]\n",
      "F1 Score:  [1., 1.]\n"
     ]
    }
   ],
   "source": [
    "import numpy as np\n",
    "\n",
    "def confusion_matrix(y_true, y_pred):\n",
    "    classes = np.unique(y_true)\n",
    "    matrix = np.zeros((len(classes), len(classes)), dtype=int)\n",
    "    for i in range(len(y_true)):\n",
    "        matrix[classes == y_true[i], classes == y_pred[i]] += 1\n",
    "    return matrix\n",
    "\n",
    "def accuracy(y_true, y_pred):\n",
    "    return np.sum(np.array(y_true) == np.array(y_pred)) / len(y_true)\n",
    "\n",
    "def precision(y_true, y_pred):\n",
    "    matrix = confusion_matrix(y_true, y_pred)\n",
    "    return np.diag(matrix) / np.sum(matrix, axis=0)\n",
    "\n",
    "def recall(y_true, y_pred):\n",
    "    matrix = confusion_matrix(y_true, y_pred)\n",
    "    return np.diag(matrix) / np.sum(matrix, axis=1)\n",
    "\n",
    "def f1_score(y_true, y_pred):\n",
    "    p = precision(y_true, y_pred)\n",
    "    r = recall(y_true, y_pred)\n",
    "    return 2 * (p * r) / (p + r)\n",
    "\n",
    "y_true = list(map(int, input(\"Enter the true labels (comma-separated): \").split(',')))\n",
    "y_pred = list(map(int, input(\"Enter the predicted labels (comma-separated): \").split(',')))\n",
    "\n",
    "print(\"\\nConfusion Matrix:\")\n",
    "conf_matrix = confusion_matrix(y_true, y_pred)\n",
    "for row in conf_matrix:\n",
    "    print(' '.join(map(str, row)))\n",
    "\n",
    "print(\"\\nAccuracy: {:.2f}\".format(accuracy(y_true, y_pred)))\n",
    "print(\"Precision: \", np.array2string(precision(y_true, y_pred), precision=2, separator=', '))\n",
    "print(\"Recall: \", np.array2string(recall(y_true, y_pred), precision=2, separator=', '))\n",
    "print(\"F1 Score: \", np.array2string(f1_score(y_true, y_pred), precision=2, separator=', '))"
   ]
  },
  {
   "cell_type": "markdown",
   "metadata": {},
   "source": [
    "- Created a confusion matrix to show true vs. predicted values.\n",
    "- Calculated accuracy to measure overall correctness.\n",
    "- Calculated precision to measure the correctness of positive predictions.\n",
    "- Calculated recall to measure how well all positive cases are identified.\n",
    "- Calculated F1 score to combine precision and recall into a single metric."
   ]
  }
 ],
 "metadata": {
  "kernelspec": {
   "display_name": "env",
   "language": "python",
   "name": "python3"
  },
  "language_info": {
   "codemirror_mode": {
    "name": "ipython",
    "version": 3
   },
   "file_extension": ".py",
   "mimetype": "text/x-python",
   "name": "python",
   "nbconvert_exporter": "python",
   "pygments_lexer": "ipython3",
   "version": "3.12.5"
  }
 },
 "nbformat": 4,
 "nbformat_minor": 2
}
