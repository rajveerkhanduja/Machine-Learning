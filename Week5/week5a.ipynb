{
 "cells": [
  {
   "cell_type": "code",
   "execution_count": 1,
   "metadata": {},
   "outputs": [
    {
     "name": "stdout",
     "output_type": "stream",
     "text": [
      "\n",
      "The computed polynomial regression coefficients are: [ 2.43010056e+03 -1.77365106e+01  5.24073763e-02 -7.59337136e-05\n",
      "  4.58414150e-08  1.50509491e-11 -4.30161852e-14  2.86639060e-17\n",
      " -8.72626555e-21  1.04264000e-24]\n"
     ]
    }
   ],
   "source": [
    "import numpy as np\n",
    "def pl_regressor(X, y, degree):\n",
    "    X_poly = np.ones((X.shape[0], degree + 1))\n",
    "    for i in range(1, degree + 1):\n",
    "        X_poly[:, i] = X**i\n",
    "    X_transpose = X_poly.T\n",
    "    theta = np.linalg.inv(X_transpose.dot(X_poly)).dot(X_transpose).dot(y)\n",
    "    return theta\n",
    "\n",
    "def get_input():\n",
    "    X_input = input(\"Enter the X values as a comma-separated list: \")\n",
    "    X_values = [float(x.strip()) for x in X_input.split(\",\")]\n",
    "    y_input = input(\"Enter the corresponding y values as a comma-separated list: \")\n",
    "    y_values = [float(y.strip()) for y in y_input.split(\",\")]\n",
    "    if len(X_values) != len(y_values):\n",
    "        raise ValueError(\"The number of X and y values must be the same.\")\n",
    "    X = np.array(X_values)\n",
    "    y = np.array(y_values)\n",
    "    return X, y\n",
    "\n",
    "def main():\n",
    "    X, y = get_input()\n",
    "    degree = len(X) - 1\n",
    "    theta = pl_regressor(X, y, degree)\n",
    "    print(f\"\\nThe computed polynomial regression coefficients are: {theta}\")\n",
    "\n",
    "if __name__ == \"__main__\":\n",
    "    main()"
   ]
  },
  {
   "cell_type": "markdown",
   "metadata": {},
   "source": [
    "- The pl_regressor function is implemented to perform polynomial regression.\n",
    "- It begins by transforming the input array X into a polynomial feature matrix, where each column corresponds to increasing powers - of X up to the specified degree.\n",
    "- The polynomial feature matrix is built by raising X to powers ranging from 1 to the specified degree, with an additional column   of ones for the intercept term."
   ]
  }
 ],
 "metadata": {
  "kernelspec": {
   "display_name": "env",
   "language": "python",
   "name": "python3"
  },
  "language_info": {
   "codemirror_mode": {
    "name": "ipython",
    "version": 3
   },
   "file_extension": ".py",
   "mimetype": "text/x-python",
   "name": "python",
   "nbconvert_exporter": "python",
   "pygments_lexer": "ipython3",
   "version": "3.12.5"
  }
 },
 "nbformat": 4,
 "nbformat_minor": 2
}
